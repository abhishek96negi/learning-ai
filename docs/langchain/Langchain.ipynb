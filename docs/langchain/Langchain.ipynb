{
 "cells": [
  {
   "cell_type": "markdown",
   "id": "aafb0641-198b-43d5-a557-d92b6c6cebe9",
   "metadata": {},
   "source": [
    "## What is Langchain\n",
    "\n",
    "Langchain is a framework that lets developers working with artifical intelligence (AI) and its machine learning subset combine Large Language Models with other external components to develpp LLM-powered applications.\n",
    "\n",
    "LangChain provides a simple interface to interact with pre-trained LLMs from providers like OpenAI, Cohere, Hugging Face, etc.\n",
    "\n",
    "LangChain is a framework that simplifies the process of creating generative AI application interfaces.\n",
    "\n",
    "It enables applications that:\n",
    "* **Are context-aware**: Connect a language model to sources of context (prompt instructions, few shot examples, content to ground its response in, etc.)\n",
    "* **Reason**: rely on a lanuage model to reason (about how to answer based on provided context, what actions to take, etc.)\n",
    "\n",
    "LangChain was launched as an open source project by co-founders Harrison Chase and Ankush Gola in 2022."
   ]
  },
  {
   "cell_type": "markdown",
   "id": "4106ed23-caae-4c59-8e38-e931cd81b838",
   "metadata": {},
   "source": [
    "## LangChain Application\n",
    "\n",
    "LangChain can build chatbots or question-answering systems by integrating an LLM e.g. Hugging Face, Cohere and OpenAI with data sources or stores such as Apify Actors, Google Search and Wikipedia.\n",
    "\n",
    "* Customer Supports Chatbots\n",
    "* Personal Assistant\n",
    "* Document Summarization\n",
    "* Data Analyze\n",
    "* QA over Documents\n",
    "* DNA Research\n",
    "* Evaluation\n",
    "* Marketing\n",
    "* Healthcare\n",
    "* E-Commerce"
   ]
  },
  {
   "cell_type": "markdown",
   "id": "30c358c5-b0c5-421e-8579-cd7aa78c6914",
   "metadata": {},
   "source": [
    "## LangChain Libraries\n",
    "\n",
    "As a framework, it also allows developers to easily integrate their AI applications into web apps.\n",
    "\n",
    "It contains interfaces and integrations for a myraid of components, a basic run time for combing these components into chains and agents, and off-the-shelf implementations of chains and agents.\n",
    "\n",
    "**LangChain JS**:\n",
    "        `npm install -S langchain`\n",
    "\n",
    "**LangChain Python**:\n",
    "        `pip install langchain`"
   ]
  }
 ],
 "metadata": {
  "kernelspec": {
   "display_name": "Python 3 (ipykernel)",
   "language": "python",
   "name": "python3"
  },
  "language_info": {
   "codemirror_mode": {
    "name": "ipython",
    "version": 3
   },
   "file_extension": ".py",
   "mimetype": "text/x-python",
   "name": "python",
   "nbconvert_exporter": "python",
   "pygments_lexer": "ipython3",
   "version": "3.12.0"
  }
 },
 "nbformat": 4,
 "nbformat_minor": 5
}
