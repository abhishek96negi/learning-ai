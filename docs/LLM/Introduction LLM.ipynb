{
 "cells": [
  {
   "cell_type": "markdown",
   "id": "c0d009dd-52b7-48af-8a94-528c1deb6346",
   "metadata": {},
   "source": [
    "## What is LLM\n",
    "\n",
    "LLMs are the heart of modern language AI models. These are responsible for understanding input text and generating responses.\n",
    "\n",
    "LLMs are built on machine learning specifically, a type of neural network called a transformer model.\n",
    "\n",
    "Many LLMs are trained on huge sets of data that has been gathered from the Internet thousands or millions of gigabytes' worth of text.\n",
    "\n",
    "LLMs use a type of machine learning called deep learning in order to understand how characters, words, and sentences function together.\n",
    "\n",
    "Deep learning models can essentially train themselves to recognize distinctions without human intervention, although some human fine-tuning is typically necessary.\n",
    "\n",
    "Deep learning involves the provabilistic analysis of unstructured data, which eventually enables the deep learning model to recognize distictions betwenn pieces of content without human intervention.\n",
    "If the information an LLM has ingested is biased, incomplete, or otherwise undesirable, then the response it gives could be equally unreliable, bizarre, or even offensive."
   ]
  },
  {
   "cell_type": "markdown",
   "id": "8bc1065e-42c0-482f-bd12-765ed7344a4b",
   "metadata": {},
   "source": [
    "## LLM vs Generative AI\n",
    "\n",
    "Generative AI can generate text, code, images, video and music. Examples of generative AI include Midjourney, DALL-E, and ChatGPT.\n",
    "\n",
    "Large language models are a type of generative AI that are trained on text and produce textual content. ChatGPT is a popular example of generative text AI.\n",
    "\n",
    "All large language models are generative AI."
   ]
  }
 ],
 "metadata": {
  "kernelspec": {
   "display_name": "Python 3 (ipykernel)",
   "language": "python",
   "name": "python3"
  },
  "language_info": {
   "codemirror_mode": {
    "name": "ipython",
    "version": 3
   },
   "file_extension": ".py",
   "mimetype": "text/x-python",
   "name": "python",
   "nbconvert_exporter": "python",
   "pygments_lexer": "ipython3",
   "version": "3.12.0"
  }
 },
 "nbformat": 4,
 "nbformat_minor": 5
}
